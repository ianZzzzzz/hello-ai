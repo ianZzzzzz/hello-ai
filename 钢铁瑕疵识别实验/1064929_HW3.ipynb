{
 "cells": [
  {
   "cell_type": "code",
   "execution_count": 1,
   "metadata": {},
   "outputs": [
    {
     "name": "stderr",
     "output_type": "stream",
     "text": [
      "Using TensorFlow backend.\n"
     ]
    }
   ],
   "source": [
    "#本次实验 目的是为了了解不同隐含层数以及激活函数等参数对预测结果的影响\n",
    "#代码框架非本人编写 使用教授给的代码\n",
    "from keras.datasets import reuters \n",
    " \n",
    "(train_data, train_labels), (test_data, test_labels) = reuters.load_data( num_words=10000)"
   ]
  },
  {
   "cell_type": "code",
   "execution_count": 2,
   "metadata": {},
   "outputs": [],
   "source": [
    "word_index = reuters.get_word_index()\n",
    "reverse_word_index = dict([(value, key) for (key, value) in word_index.items()])\n",
    "decoded_newswire = ' '.join([reverse_word_index.get(i - 3, '?') for i in train_data[0]])"
   ]
  },
  {
   "cell_type": "code",
   "execution_count": 3,
   "metadata": {},
   "outputs": [],
   "source": [
    "import numpy as np\n",
    "def vectorize_sequences(sequences, dimension=10000):\n",
    "    results = np.zeros((len(sequences), dimension))\n",
    "    for i, sequence in enumerate(sequences):\n",
    "        results[i, sequence] = 1.\n",
    "    return results\n",
    "x_train = vectorize_sequences(train_data)\n",
    "x_test = vectorize_sequences(test_data)\n",
    "\n",
    "def to_one_hot(labels, dimension=46):\n",
    "    results = np.zeros((len(labels), dimension))\n",
    "    for i, label in enumerate(labels):\n",
    "        results[i, label] = 1.\n",
    "    return results\n",
    "one_hot_train_labels = to_one_hot(train_labels)\n",
    "one_hot_test_labels = to_one_hot(test_labels)\n",
    "\n",
    "from keras.utils.np_utils import to_categorical\n",
    "one_hot_train_labels = to_categorical(train_labels)\n",
    "one_hot_test_labels = to_categorical(test_labels)\n",
    "\n"
   ]
  },
  {
   "cell_type": "code",
   "execution_count": null,
   "metadata": {},
   "outputs": [],
   "source": []
  },
  {
   "cell_type": "code",
   "execution_count": 4,
   "metadata": {},
   "outputs": [],
   "source": [
    "x_val = x_train[:100]\n",
    "partial_x_train = x_train[100:]\n",
    "y_val = one_hot_train_labels[:100]\n",
    "partial_y_train = one_hot_train_labels[100:]"
   ]
  },
  {
   "cell_type": "code",
   "execution_count": 5,
   "metadata": {
    "tags": [
     "importKeras"
    ]
   },
   "outputs": [],
   "source": [
    "from keras import models\n",
    "from keras import layers\n",
    "\n"
   ]
  },
  {
   "cell_type": "code",
   "execution_count": null,
   "metadata": {},
   "outputs": [],
   "source": []
  },
  {
   "cell_type": "code",
   "execution_count": 6,
   "metadata": {
    "tags": [
     "rmsprop"
    ]
   },
   "outputs": [],
   "source": [
    "model_rmsprop = models.Sequential()\n",
    "#model_rmsprop.add(layers.Embedding(20, 128, input_length=20))\n",
    "#model_rmsprop.add(layers.MaxPooling1D(5))\n",
    "#model_rmsprop.add(layers.Conv1D(64, 5, activation='relu'))\n",
    "model_rmsprop.add(layers.Dense(128, activation='relu'))\n",
    "model_rmsprop.add(layers.Dense(46, activation='relu'))\n",
    "model_rmsprop.add(layers.Dense(46, activation='softmax'))\n"
   ]
  },
  {
   "cell_type": "code",
   "execution_count": 7,
   "metadata": {
    "tags": [
     "rmsprop"
    ]
   },
   "outputs": [
    {
     "name": "stdout",
     "output_type": "stream",
     "text": [
      "WARNING:tensorflow:From C:\\Users\\willa\\Anaconda3\\envs\\tensorflow-gpu\\lib\\site-packages\\keras\\backend\\tensorflow_backend.py:422: The name tf.global_variables is deprecated. Please use tf.compat.v1.global_variables instead.\n",
      "\n",
      "Train on 8882 samples, validate on 100 samples\n",
      "Epoch 1/30\n",
      "8882/8882 [==============================] - 20s 2ms/step - loss: 1.2985 - accuracy: 0.7177 - val_loss: 0.7314 - val_accuracy: 0.8500\n",
      "Epoch 2/30\n",
      "8882/8882 [==============================] - 21s 2ms/step - loss: 0.6953 - accuracy: 0.8528 - val_loss: 0.7155 - val_accuracy: 0.8800\n",
      "Epoch 3/30\n",
      "8882/8882 [==============================] - 19s 2ms/step - loss: 0.4452 - accuracy: 0.9032 - val_loss: 0.7342 - val_accuracy: 0.8800\n",
      "Epoch 4/30\n",
      "8882/8882 [==============================] - 18s 2ms/step - loss: 0.3263 - accuracy: 0.9310 - val_loss: 0.8338 - val_accuracy: 0.8700\n",
      "Epoch 5/30\n",
      "8882/8882 [==============================] - 19s 2ms/step - loss: 0.2722 - accuracy: 0.9420 - val_loss: 0.8824 - val_accuracy: 0.8600\n",
      "Epoch 6/30\n",
      "8882/8882 [==============================] - 18s 2ms/step - loss: 0.2342 - accuracy: 0.9484 - val_loss: 1.0187 - val_accuracy: 0.8700\n",
      "Epoch 7/30\n",
      "8882/8882 [==============================] - 18s 2ms/step - loss: 0.2211 - accuracy: 0.9510 - val_loss: 1.1928 - val_accuracy: 0.8500\n",
      "Epoch 8/30\n",
      "8882/8882 [==============================] - 18s 2ms/step - loss: 0.2057 - accuracy: 0.9531 - val_loss: 1.1714 - val_accuracy: 0.8400\n",
      "Epoch 9/30\n",
      "8882/8882 [==============================] - 18s 2ms/step - loss: 0.1977 - accuracy: 0.9538 - val_loss: 1.2556 - val_accuracy: 0.8400\n",
      "Epoch 10/30\n",
      "8882/8882 [==============================] - 19s 2ms/step - loss: 0.1907 - accuracy: 0.9542 - val_loss: 1.4385 - val_accuracy: 0.8300\n",
      "Epoch 11/30\n",
      "8882/8882 [==============================] - 19s 2ms/step - loss: 0.1794 - accuracy: 0.9528 - val_loss: 1.6223 - val_accuracy: 0.8400\n",
      "Epoch 12/30\n",
      "8882/8882 [==============================] - 18s 2ms/step - loss: 0.1779 - accuracy: 0.9545 - val_loss: 1.5132 - val_accuracy: 0.8500\n",
      "Epoch 13/30\n",
      "8882/8882 [==============================] - 18s 2ms/step - loss: 0.1698 - accuracy: 0.9567 - val_loss: 1.5317 - val_accuracy: 0.8500\n",
      "Epoch 14/30\n",
      "8882/8882 [==============================] - 18s 2ms/step - loss: 0.1746 - accuracy: 0.9556 - val_loss: 2.1565 - val_accuracy: 0.8400\n",
      "Epoch 15/30\n",
      "8882/8882 [==============================] - 19s 2ms/step - loss: 0.1706 - accuracy: 0.9546 - val_loss: 2.0398 - val_accuracy: 0.8400\n",
      "Epoch 16/30\n",
      "8882/8882 [==============================] - 19s 2ms/step - loss: 0.1712 - accuracy: 0.9542 - val_loss: 2.0028 - val_accuracy: 0.8200\n",
      "Epoch 17/30\n",
      "8882/8882 [==============================] - 19s 2ms/step - loss: 0.1659 - accuracy: 0.9567 - val_loss: 2.4818 - val_accuracy: 0.8500\n",
      "Epoch 18/30\n",
      "8882/8882 [==============================] - 18s 2ms/step - loss: 0.1714 - accuracy: 0.9544 - val_loss: 2.3201 - val_accuracy: 0.8300\n",
      "Epoch 19/30\n",
      "8882/8882 [==============================] - 18s 2ms/step - loss: 0.1647 - accuracy: 0.9562 - val_loss: 2.7713 - val_accuracy: 0.8100\n",
      "Epoch 20/30\n",
      "8882/8882 [==============================] - 18s 2ms/step - loss: 0.1624 - accuracy: 0.9580 - val_loss: 2.6665 - val_accuracy: 0.8200\n",
      "Epoch 21/30\n",
      "8882/8882 [==============================] - 18s 2ms/step - loss: 0.1609 - accuracy: 0.9560 - val_loss: 2.8618 - val_accuracy: 0.8300 accura\n",
      "Epoch 22/30\n",
      "8882/8882 [==============================] - 18s 2ms/step - loss: 0.1587 - accuracy: 0.9556 - val_loss: 3.0758 - val_accuracy: 0.8300\n",
      "Epoch 23/30\n",
      "8882/8882 [==============================] - 18s 2ms/step - loss: 0.1468 - accuracy: 0.9577 - val_loss: 3.2152 - val_accuracy: 0.8300\n",
      "Epoch 24/30\n",
      "8882/8882 [==============================] - 20s 2ms/step - loss: 0.1602 - accuracy: 0.9562 - val_loss: 3.1755 - val_accuracy: 0.8300\n",
      "Epoch 25/30\n",
      "8882/8882 [==============================] - 20s 2ms/step - loss: 0.1583 - accuracy: 0.9556 - val_loss: 3.5787 - val_accuracy: 0.8400\n",
      "Epoch 26/30\n",
      "8882/8882 [==============================] - 18s 2ms/step - loss: 0.1526 - accuracy: 0.9568 - val_loss: 3.5532 - val_accuracy: 0.8400\n",
      "Epoch 27/30\n",
      "8882/8882 [==============================] - 18s 2ms/step - loss: 0.1662 - accuracy: 0.9569 - val_loss: 3.8470 - val_accuracy: 0.8400\n",
      "Epoch 28/30\n",
      "8882/8882 [==============================] - 20s 2ms/step - loss: 0.1507 - accuracy: 0.9590 - val_loss: 4.2129 - val_accuracy: 0.8200\n",
      "Epoch 29/30\n",
      "8882/8882 [==============================] - 19s 2ms/step - loss: 0.1607 - accuracy: 0.9562 - val_loss: 4.4393 - val_accuracy: 0.7800\n",
      "Epoch 30/30\n",
      "8882/8882 [==============================] - 19s 2ms/step - loss: 0.1442 - accuracy: 0.9553 - val_loss: 4.2422 - val_accuracy: 0.8300\n",
      "2246/2246 [==============================] - 1s 462us/step\n"
     ]
    }
   ],
   "source": [
    "model_rmsprop.compile(optimizer='rmsprop',loss='categorical_crossentropy',metrics=['accuracy'])\n",
    "import keras\n",
    "#keras.optimizers.rmsprop(lr=0.0001)\n",
    "history_2=model_rmsprop.fit(partial_x_train,\n",
    "partial_y_train,\n",
    "epochs=30,\n",
    "batch_size=16,\n",
    "validation_data=(x_val, y_val))\n",
    "results = model_rmsprop.evaluate(x_test, one_hot_test_labels)"
   ]
  },
  {
   "cell_type": "code",
   "execution_count": null,
   "metadata": {},
   "outputs": [],
   "source": [
    "\n"
   ]
  },
  {
   "cell_type": "code",
   "execution_count": null,
   "metadata": {},
   "outputs": [],
   "source": []
  },
  {
   "cell_type": "code",
   "execution_count": 10,
   "metadata": {},
   "outputs": [
    {
     "data": {
      "image/png": "[encoded data removed]",
      "text/plain": [
       "<Figure size 432x288 with 1 Axes>"
      ]
     },
     "metadata": {
      "needs_background": "light"
     },
     "output_type": "display_data"
    },
    {
     "data": {
      "image/png": "[encoded data removed]",
      "text/plain": [
       "<Figure size 432x288 with 1 Axes>"
      ]
     },
     "metadata": {
      "needs_background": "light"
     },
     "output_type": "display_data"
    }
   ],
   "source": [
    "import matplotlib.pyplot as plt\n",
    "\n",
    "#loss_rmsprop = history_1.history['loss']\n",
    "loss_rmsprop = history_2.history['loss']\n",
    "\n",
    "loss= loss_rmsprop\n",
    "\n",
    "#val_loss_rmsprop = history_1.history['val_loss']\n",
    "val_loss_rmsprop = history_2.history['val_loss']\n",
    "\n",
    "epochs = range(1, len(loss_rmsprop) + 1)\n",
    "\n",
    "#plt.plot(epochs, loss_rmsprop, 'bo', label='Training loss_rmsprop')\n",
    "plt.plot(epochs, loss_rmsprop, 'yo', label='Training loss_rmsprop')\n",
    "\n",
    "#plt.plot(epochs, val_loss_rmsprop, 'b', label='Validation loss_rmsprop')\n",
    "plt.plot(epochs, val_loss_rmsprop, 'y', label='Validation loss_rmsprop')\n",
    "\n",
    "plt.title('Training and validation loss with different optimizer')\n",
    "plt.xlabel('Epochs')\n",
    "plt.ylabel('Loss')\n",
    "plt.legend()\n",
    "plt.show() \n",
    "\n",
    "#acc_rmsprop = history_1.history['accuracy']\n",
    "#val_acc_rmsprop = history_1.history['val_accuracy']\n",
    "\n",
    "#plt.plot(epochs, acc_rmsprop, 'bo', label='Training accuracy_rmsprop')\n",
    "#plt.plot(epochs, val_acc_rmsprop, 'b', label='Validation accuracy_rmsprop')\n",
    "\n",
    "acc_rmsprop = history_2.history['accuracy']\n",
    "val_acc_rmsprop = history_2.history['val_accuracy']\n",
    "plt.plot(epochs, acc_rmsprop, 'b', label='Training accuracy')\n",
    "plt.plot(epochs, val_acc_rmsprop, 'y', label='Validation accuracy')\n",
    "\n",
    "plt.title('Training and validation accuracy with LeNet5')\n",
    "plt.xlabel('Epochs')\n",
    "plt.ylabel('Accuracy')\n",
    "plt.legend()\n",
    "plt.show()"
   ]
  },
  {
   "cell_type": "code",
   "execution_count": null,
   "metadata": {},
   "outputs": [],
   "source": []
  },
  {
   "cell_type": "code",
   "execution_count": null,
   "metadata": {},
   "outputs": [],
   "source": []
  }
 ],
 "metadata": {
  "celltoolbar": "Tags",
  "kernelspec": {
   "display_name": "Python 3",
   "language": "python",
   "name": "python3"
  },
  "language_info": {
   "codemirror_mode": {
    "name": "ipython",
    "version": 3
   },
   "file_extension": ".py",
   "mimetype": "text/x-python",
   "name": "python",
   "nbconvert_exporter": "python",
   "pygments_lexer": "ipython3",
   "version": "3.7.4"
  }
 },
 "nbformat": 4,
 "nbformat_minor": 2
}